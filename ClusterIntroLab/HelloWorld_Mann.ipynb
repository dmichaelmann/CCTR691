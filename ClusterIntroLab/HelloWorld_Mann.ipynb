{
 "cells": [
  {
   "cell_type": "markdown",
   "id": "826d6886-56fd-4860-8259-383fcd2f36fb",
   "metadata": {},
   "source": [
    "# My First Notebook\n",
    "\n",
    "## Subheading\n",
    "\n",
    "### third header\n",
    "\n",
    "This is a brief description, in which I can write anything I want\n",
    "\n",
    "* Bullet points\n",
    "    * smaller bullet points"
   ]
  },
  {
   "cell_type": "code",
   "execution_count": 1,
   "id": "cc1dd768-c09d-4b8c-945d-d0bc9f54a324",
   "metadata": {
    "tags": []
   },
   "outputs": [
    {
     "name": "stdout",
     "output_type": "stream",
     "text": [
      "Hello world\n"
     ]
    }
   ],
   "source": [
    "print(\"Hello world\")"
   ]
  }
 ],
 "metadata": {
  "kernelspec": {
   "display_name": "Python 3 (ipykernel)",
   "language": "python",
   "name": "python3"
  },
  "language_info": {
   "codemirror_mode": {
    "name": "ipython",
    "version": 3
   },
   "file_extension": ".py",
   "mimetype": "text/x-python",
   "name": "python",
   "nbconvert_exporter": "python",
   "pygments_lexer": "ipython3",
   "version": "3.11.5"
  }
 },
 "nbformat": 4,
 "nbformat_minor": 5
}
